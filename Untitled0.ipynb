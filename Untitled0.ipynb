{
  "nbformat": 4,
  "nbformat_minor": 0,
  "metadata": {
    "colab": {
      "provenance": [],
      "gpuType": "T4",
      "authorship_tag": "ABX9TyOjiCKcJ8T44bYTCjxN3ViR",
      "include_colab_link": true
    },
    "kernelspec": {
      "name": "python3",
      "display_name": "Python 3"
    },
    "language_info": {
      "name": "python"
    },
    "accelerator": "GPU"
  },
  "cells": [
    {
      "cell_type": "markdown",
      "metadata": {
        "id": "view-in-github",
        "colab_type": "text"
      },
      "source": [
        "<a href=\"https://colab.research.google.com/github/reylman2/Animal/blob/main/Untitled0.ipynb\" target=\"_parent\"><img src=\"https://colab.research.google.com/assets/colab-badge.svg\" alt=\"Open In Colab\"/></a>"
      ]
    },
    {
      "cell_type": "code",
      "execution_count": null,
      "metadata": {
        "colab": {
          "base_uri": "https://localhost:8080/"
        },
        "id": "N4YSJ5i_Avhw",
        "outputId": "58539e4a-12ea-41de-b4ff-1872c5404f81"
      },
      "outputs": [
        {
          "output_type": "stream",
          "name": "stdout",
          "text": [
            "Drive already mounted at /content/drive; to attempt to forcibly remount, call drive.mount(\"/content/drive\", force_remount=True).\n"
          ]
        }
      ],
      "source": [
        "# 1. 安装依赖、挂载 Google Drive、配置 Kaggle API\n",
        "!pip install -q kaggle deep-translator\n",
        "import os, json, stat\n",
        "from google.colab import drive\n",
        "\n",
        "drive.mount('/content/drive')\n",
        "\n",
        "os.environ['KAGGLE_USERNAME'] = 'reyman1'\n",
        "os.environ['KAGGLE_KEY'] = 'e6948a0271d188dc2fdbf68b7a839264'\n",
        "\n",
        "kaggle_config = {\n",
        "    \"username\": os.environ['KAGGLE_USERNAME'],\n",
        "    \"key\": os.environ['KAGGLE_KEY']\n",
        "}\n",
        "os.makedirs(os.path.expanduser('~/.kaggle'), exist_ok=True)\n",
        "with open(os.path.expanduser('~/.kaggle/kaggle.json'), 'w') as f:\n",
        "    json.dump(kaggle_config, f)\n",
        "os.chmod(os.path.expanduser('~/.kaggle/kaggle.json'), stat.S_IRUSR | stat.S_IWUSR)"
      ]
    },
    {
      "cell_type": "code",
      "source": [
        "# 2. 下载并解压 Animals-10 数据集\n",
        "!kaggle datasets download alessiocorrado99/animals10 -q\n",
        "!unzip -q animals10.zip -d animals10"
      ],
      "metadata": {
        "colab": {
          "base_uri": "https://localhost:8080/"
        },
        "id": "tov2zqpABAO5",
        "outputId": "31d40df6-a8b5-4de2-afb5-2e177b5ccb97"
      },
      "execution_count": null,
      "outputs": [
        {
          "output_type": "stream",
          "name": "stdout",
          "text": [
            "Dataset URL: https://www.kaggle.com/datasets/alessiocorrado99/animals10\n",
            "License(s): GPL-2.0\n",
            "replace animals10/raw-img/cane/OIF-e2bexWrojgtQnAPPcUfOWQ.jpeg? [y]es, [n]o, [A]ll, [N]one, [r]ename: "
          ]
        }
      ]
    },
    {
      "cell_type": "code",
      "source": [
        "# 3. 导入库并设置参数\n",
        "import tensorflow as tf\n",
        "from tensorflow.keras import mixed_precision\n",
        "from tensorflow.keras.utils import image_dataset_from_directory\n",
        "from deep_translator import GoogleTranslator\n",
        "import matplotlib.pyplot as plt\n",
        "import numpy as np\n",
        "from tensorflow.keras.applications import MobileNetV2\n",
        "from tensorflow.keras.layers import GlobalAveragePooling2D, Dense, Dropout, Input, Rescaling\n",
        "from tensorflow.keras.models import Model\n",
        "from tensorflow.keras.callbacks import ReduceLROnPlateau, EarlyStopping, ModelCheckpoint\n",
        "from PIL import Image\n",
        "import requests\n",
        "from io import BytesIO\n",
        "\n",
        "# 参数\n",
        "img_size = (224, 224)\n",
        "batch_size = 32\n",
        "drive_model_dir = '/content/drive/MyDrive/models'\n",
        "os.makedirs(drive_model_dir, exist_ok=True)"
      ],
      "metadata": {
        "id": "j1osVPH_EQ7l"
      },
      "execution_count": null,
      "outputs": []
    },
    {
      "cell_type": "code",
      "source": [
        "# 4. 构建原始 tf.data 数据集\n",
        "raw_train_ds = image_dataset_from_directory(\n",
        "    'animals10/raw-img',\n",
        "    labels='inferred',\n",
        "    label_mode='categorical',\n",
        "    validation_split=0.2,\n",
        "    subset='training',\n",
        "    seed=123,\n",
        "    image_size=img_size,\n",
        "    batch_size=batch_size\n",
        ")\n",
        "raw_val_ds = image_dataset_from_directory(\n",
        "    'animals10/raw-img',\n",
        "    labels='inferred',\n",
        "    label_mode='categorical',\n",
        "    validation_split=0.2,\n",
        "    subset='validation',\n",
        "    seed=123,\n",
        "    image_size=img_size,\n",
        "    batch_size=batch_size\n",
        ")"
      ],
      "metadata": {
        "id": "Ug0ElK0nEbiZ"
      },
      "execution_count": null,
      "outputs": []
    },
    {
      "cell_type": "code",
      "source": [
        "# 5. 获取意大利语标签并批量翻译\n",
        "class_names_it = raw_train_ds.class_names\n",
        "translator = GoogleTranslator(source='it', target='en')\n",
        "label_map = {it: translator.translate(it).lower() for it in class_names_it}\n",
        "print(\"Label map:\", label_map)"
      ],
      "metadata": {
        "id": "nyXAgxHoceGu"
      },
      "execution_count": null,
      "outputs": []
    },
    {
      "cell_type": "code",
      "source": [
        "# 6. 数据预处理流水线\n",
        "AUTOTUNE = tf.data.AUTOTUNE\n",
        "normalization_layer = Rescaling(1./255)\n",
        "augment_layer = tf.keras.Sequential([\n",
        "    tf.keras.layers.RandomFlip('horizontal'),\n",
        "    tf.keras.layers.RandomRotation(0.1),\n",
        "    tf.keras.layers.RandomZoom(0.1),\n",
        "])\n",
        "\n",
        "def preprocess(ds, training=False):\n",
        "    ds = ds.map(lambda x, y: (normalization_layer(x), y), num_parallel_calls=AUTOTUNE)\n",
        "    if training:\n",
        "        ds = ds.map(lambda x, y: (augment_layer(x), y), num_parallel_calls=AUTOTUNE)\n",
        "        ds = ds.shuffle(1000)                # 只在训练时做 shuffle\n",
        "    return ds.prefetch(AUTOTUNE)            # 只做 prefetch，不缓存到内存\n",
        "\n",
        "\n",
        "train_ds = preprocess(raw_train_ds, training=True)\n",
        "val_ds   = preprocess(raw_val_ds, training=False)"
      ],
      "metadata": {
        "id": "CUOeAunjc4fx"
      },
      "execution_count": null,
      "outputs": []
    },
    {
      "cell_type": "code",
      "source": [
        "# 7. 启用混合精度加速（可选）\n",
        "mixed_precision.set_global_policy('mixed_float16')"
      ],
      "metadata": {
        "id": "3FmVS8I6uUsH"
      },
      "execution_count": null,
      "outputs": []
    },
    {
      "cell_type": "code",
      "source": [
        "# 8. 构建模型\n",
        "base_model = MobileNetV2(input_shape=img_size + (3,), include_top=False, weights='imagenet')\n",
        "base_model.trainable = False\n",
        "\n",
        "inputs = Input(shape=img_size + (3,))\n",
        "x = augment_layer(inputs)\n",
        "x = normalization_layer(x)\n",
        "x = base_model(x, training=False)\n",
        "x = GlobalAveragePooling2D()(x)\n",
        "x = Dense(256, activation='relu')(x)\n",
        "x = Dropout(0.5)(x)\n",
        "outputs = Dense(len(class_names_it), activation='softmax', dtype='float32')(x)\n",
        "\n",
        "model = Model(inputs, outputs)\n",
        "model.compile(optimizer='adam', loss='categorical_crossentropy', metrics=['accuracy'])\n",
        "model.summary()"
      ],
      "metadata": {
        "id": "l62HiUR9qAor"
      },
      "execution_count": null,
      "outputs": []
    },
    {
      "cell_type": "code",
      "source": [
        "# 9. 回调配置\n",
        "checkpoint_path = f\"{drive_model_dir}/animals10_best.h5\"\n",
        "callbacks = [\n",
        "    ReduceLROnPlateau(monitor='val_loss', patience=3, factor=0.5, verbose=1),\n",
        "    EarlyStopping(monitor='val_loss', patience=5, restore_best_weights=True, verbose=1),\n",
        "    ModelCheckpoint(filepath=checkpoint_path, monitor='val_loss', save_best_only=True, verbose=1)\n",
        "]"
      ],
      "metadata": {
        "id": "0TIzMY2jqF39"
      },
      "execution_count": null,
      "outputs": []
    },
    {
      "cell_type": "code",
      "source": [
        "# 10. 阶段1：仅训练自定义头部\n",
        "initial_epochs = 5\n",
        "history1 = model.fit(train_ds, epochs=initial_epochs, validation_data=val_ds, callbacks=callbacks)"
      ],
      "metadata": {
        "id": "GZP0gup_qJkc"
      },
      "execution_count": null,
      "outputs": []
    },
    {
      "cell_type": "code",
      "source": [
        "# 11. 阶段2：微调——只解冻最后20层\n",
        "base_model.trainable = True\n",
        "for layer in base_model.layers[:-20]:\n",
        "    layer.trainable = False\n",
        "\n",
        "model.compile(optimizer=tf.keras.optimizers.Adam(1e-5), loss='categorical_crossentropy', metrics=['accuracy'])\n",
        "\n",
        "fine_epochs = 5\n",
        "total_epochs = initial_epochs + fine_epochs\n",
        "history2 = model.fit(train_ds, initial_epoch=initial_epochs, epochs=total_epochs, validation_data=val_ds, callbacks=callbacks)"
      ],
      "metadata": {
        "id": "LXU1Zic4qNaO"
      },
      "execution_count": null,
      "outputs": []
    },
    {
      "cell_type": "code",
      "source": [
        "# 12. 保存完整模型\n",
        "model.save(f\"{drive_model_dir}/animals10_full_model\")"
      ],
      "metadata": {
        "id": "jkid1KOaqRMC"
      },
      "execution_count": null,
      "outputs": []
    },
    {
      "cell_type": "code",
      "source": [
        "# 13. 可视化训练曲线\n",
        "def plot_metric(hist, key):\n",
        "    plt.plot(hist.history[key], label=key)\n",
        "    plt.plot(hist.history['val_' + key], label='val_' + key)\n",
        "    plt.title(key)\n",
        "    plt.xlabel('Epoch')\n",
        "    plt.legend()\n",
        "    plt.show()\n",
        "\n",
        "plot_metric(history1, 'accuracy')\n",
        "plot_metric(history1, 'loss')\n",
        "plot_metric(history2, 'accuracy')\n",
        "plot_metric(history2, 'loss')\n"
      ],
      "metadata": {
        "id": "Hm1nIYbwqYkj"
      },
      "execution_count": null,
      "outputs": []
    },
    {
      "cell_type": "code",
      "source": [
        "# 14. 推断示例函数\n",
        "def predict_url(url):\n",
        "    resp = requests.get(url)\n",
        "    img = Image.open(BytesIO(resp.content)).resize(img_size)\n",
        "    plt.imshow(img)\n",
        "    plt.axis('off')\n",
        "    plt.show()\n",
        "\n",
        "    x = np.expand_dims(np.array(img) / 255.0, axis=0)\n",
        "    preds = model.predict(x)\n",
        "    idx = np.argmax(preds, axis=1)[0]\n",
        "\n",
        "    pred_it = class_names_it[idx]\n",
        "    pred_en = label_map.get(pred_it, pred_it)\n",
        "    print(f\"Predicted (IT): {pred_it}\")\n",
        "    print(f\"Predicted (EN): {pred_en}\")\n",
        "\n",
        "# 示例调用\n",
        "predict_url('https://hips.hearstapps.com/ghk.h-cdn.co/assets/17/30/bernese-mountain-dog.jpg')"
      ],
      "metadata": {
        "id": "lkhCfmbAqaEu"
      },
      "execution_count": null,
      "outputs": []
    }
  ]
}